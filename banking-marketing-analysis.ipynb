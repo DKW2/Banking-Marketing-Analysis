{
 "cells": [
  {
   "cell_type": "markdown",
   "metadata": {},
   "source": [
    "# Practical Application III: Comparing Classifiers\n",
    "\n",
    "**Overview**: In this practical application, your goal is to compare the performance of the classifiers we encountered in this section, namely K Nearest Neighbor, Logistic Regression, Decision Trees, and Support Vector Machines.  We will utilize a dataset related to marketing bank products over the telephone.  \n",
    "\n"
   ]
  },
  {
   "cell_type": "markdown",
   "metadata": {},
   "source": [
    "### Getting Started\n",
    "\n",
    "Our dataset comes from the UCI Machine Learning repository [link](https://archive.ics.uci.edu/ml/datasets/bank+marketing).  The data is from a Portugese banking institution and is a collection of the results of multiple marketing campaigns.  We will make use of the article accompanying the dataset [here](CRISP-DM-BANK.pdf) for more information on the data and features.\n",
    "\n"
   ]
  },
  {
   "cell_type": "markdown",
   "metadata": {},
   "source": [
    "### Problem 1: Understanding the Data\n",
    "\n",
    "To gain a better understanding of the data, please read the information provided in the UCI link above, and examine the **Materials and Methods** section of the paper.  How many marketing campaigns does this data represent?"
   ]
  },
  {
   "cell_type": "markdown",
   "metadata": {},
   "source": [
    "17 Campaigns"
   ]
  },
  {
   "cell_type": "markdown",
   "metadata": {},
   "source": [
    "### Problem 2: Read in the Data\n",
    "\n",
    "Use pandas to read in the dataset `bank-additional-full.csv` and assign to a meaningful variable name."
   ]
  },
  {
   "cell_type": "code",
   "execution_count": 82,
   "metadata": {},
   "outputs": [],
   "source": [
    "import pandas as pd"
   ]
  },
  {
   "cell_type": "code",
   "execution_count": 83,
   "metadata": {},
   "outputs": [],
   "source": [
    "bankDF = pd.read_csv('data/bank-additional-full.csv', sep = ';')"
   ]
  },
  {
   "cell_type": "code",
   "execution_count": 84,
   "metadata": {},
   "outputs": [
    {
     "data": {
      "text/html": [
       "<div>\n",
       "<style scoped>\n",
       "    .dataframe tbody tr th:only-of-type {\n",
       "        vertical-align: middle;\n",
       "    }\n",
       "\n",
       "    .dataframe tbody tr th {\n",
       "        vertical-align: top;\n",
       "    }\n",
       "\n",
       "    .dataframe thead th {\n",
       "        text-align: right;\n",
       "    }\n",
       "</style>\n",
       "<table border=\"1\" class=\"dataframe\">\n",
       "  <thead>\n",
       "    <tr style=\"text-align: right;\">\n",
       "      <th></th>\n",
       "      <th>age</th>\n",
       "      <th>job</th>\n",
       "      <th>marital</th>\n",
       "      <th>education</th>\n",
       "      <th>default</th>\n",
       "      <th>housing</th>\n",
       "      <th>loan</th>\n",
       "      <th>contact</th>\n",
       "      <th>month</th>\n",
       "      <th>day_of_week</th>\n",
       "      <th>...</th>\n",
       "      <th>campaign</th>\n",
       "      <th>pdays</th>\n",
       "      <th>previous</th>\n",
       "      <th>poutcome</th>\n",
       "      <th>emp.var.rate</th>\n",
       "      <th>cons.price.idx</th>\n",
       "      <th>cons.conf.idx</th>\n",
       "      <th>euribor3m</th>\n",
       "      <th>nr.employed</th>\n",
       "      <th>y</th>\n",
       "    </tr>\n",
       "  </thead>\n",
       "  <tbody>\n",
       "    <tr>\n",
       "      <th>0</th>\n",
       "      <td>56</td>\n",
       "      <td>housemaid</td>\n",
       "      <td>married</td>\n",
       "      <td>basic.4y</td>\n",
       "      <td>no</td>\n",
       "      <td>no</td>\n",
       "      <td>no</td>\n",
       "      <td>telephone</td>\n",
       "      <td>may</td>\n",
       "      <td>mon</td>\n",
       "      <td>...</td>\n",
       "      <td>1</td>\n",
       "      <td>999</td>\n",
       "      <td>0</td>\n",
       "      <td>nonexistent</td>\n",
       "      <td>1.1</td>\n",
       "      <td>93.994</td>\n",
       "      <td>-36.4</td>\n",
       "      <td>4.857</td>\n",
       "      <td>5191.0</td>\n",
       "      <td>no</td>\n",
       "    </tr>\n",
       "    <tr>\n",
       "      <th>1</th>\n",
       "      <td>57</td>\n",
       "      <td>services</td>\n",
       "      <td>married</td>\n",
       "      <td>high.school</td>\n",
       "      <td>unknown</td>\n",
       "      <td>no</td>\n",
       "      <td>no</td>\n",
       "      <td>telephone</td>\n",
       "      <td>may</td>\n",
       "      <td>mon</td>\n",
       "      <td>...</td>\n",
       "      <td>1</td>\n",
       "      <td>999</td>\n",
       "      <td>0</td>\n",
       "      <td>nonexistent</td>\n",
       "      <td>1.1</td>\n",
       "      <td>93.994</td>\n",
       "      <td>-36.4</td>\n",
       "      <td>4.857</td>\n",
       "      <td>5191.0</td>\n",
       "      <td>no</td>\n",
       "    </tr>\n",
       "    <tr>\n",
       "      <th>2</th>\n",
       "      <td>37</td>\n",
       "      <td>services</td>\n",
       "      <td>married</td>\n",
       "      <td>high.school</td>\n",
       "      <td>no</td>\n",
       "      <td>yes</td>\n",
       "      <td>no</td>\n",
       "      <td>telephone</td>\n",
       "      <td>may</td>\n",
       "      <td>mon</td>\n",
       "      <td>...</td>\n",
       "      <td>1</td>\n",
       "      <td>999</td>\n",
       "      <td>0</td>\n",
       "      <td>nonexistent</td>\n",
       "      <td>1.1</td>\n",
       "      <td>93.994</td>\n",
       "      <td>-36.4</td>\n",
       "      <td>4.857</td>\n",
       "      <td>5191.0</td>\n",
       "      <td>no</td>\n",
       "    </tr>\n",
       "    <tr>\n",
       "      <th>3</th>\n",
       "      <td>40</td>\n",
       "      <td>admin.</td>\n",
       "      <td>married</td>\n",
       "      <td>basic.6y</td>\n",
       "      <td>no</td>\n",
       "      <td>no</td>\n",
       "      <td>no</td>\n",
       "      <td>telephone</td>\n",
       "      <td>may</td>\n",
       "      <td>mon</td>\n",
       "      <td>...</td>\n",
       "      <td>1</td>\n",
       "      <td>999</td>\n",
       "      <td>0</td>\n",
       "      <td>nonexistent</td>\n",
       "      <td>1.1</td>\n",
       "      <td>93.994</td>\n",
       "      <td>-36.4</td>\n",
       "      <td>4.857</td>\n",
       "      <td>5191.0</td>\n",
       "      <td>no</td>\n",
       "    </tr>\n",
       "    <tr>\n",
       "      <th>4</th>\n",
       "      <td>56</td>\n",
       "      <td>services</td>\n",
       "      <td>married</td>\n",
       "      <td>high.school</td>\n",
       "      <td>no</td>\n",
       "      <td>no</td>\n",
       "      <td>yes</td>\n",
       "      <td>telephone</td>\n",
       "      <td>may</td>\n",
       "      <td>mon</td>\n",
       "      <td>...</td>\n",
       "      <td>1</td>\n",
       "      <td>999</td>\n",
       "      <td>0</td>\n",
       "      <td>nonexistent</td>\n",
       "      <td>1.1</td>\n",
       "      <td>93.994</td>\n",
       "      <td>-36.4</td>\n",
       "      <td>4.857</td>\n",
       "      <td>5191.0</td>\n",
       "      <td>no</td>\n",
       "    </tr>\n",
       "  </tbody>\n",
       "</table>\n",
       "<p>5 rows × 21 columns</p>\n",
       "</div>"
      ],
      "text/plain": [
       "   age        job  marital    education  default housing loan    contact  \\\n",
       "0   56  housemaid  married     basic.4y       no      no   no  telephone   \n",
       "1   57   services  married  high.school  unknown      no   no  telephone   \n",
       "2   37   services  married  high.school       no     yes   no  telephone   \n",
       "3   40     admin.  married     basic.6y       no      no   no  telephone   \n",
       "4   56   services  married  high.school       no      no  yes  telephone   \n",
       "\n",
       "  month day_of_week  ...  campaign  pdays  previous     poutcome emp.var.rate  \\\n",
       "0   may         mon  ...         1    999         0  nonexistent          1.1   \n",
       "1   may         mon  ...         1    999         0  nonexistent          1.1   \n",
       "2   may         mon  ...         1    999         0  nonexistent          1.1   \n",
       "3   may         mon  ...         1    999         0  nonexistent          1.1   \n",
       "4   may         mon  ...         1    999         0  nonexistent          1.1   \n",
       "\n",
       "   cons.price.idx  cons.conf.idx  euribor3m  nr.employed   y  \n",
       "0          93.994          -36.4      4.857       5191.0  no  \n",
       "1          93.994          -36.4      4.857       5191.0  no  \n",
       "2          93.994          -36.4      4.857       5191.0  no  \n",
       "3          93.994          -36.4      4.857       5191.0  no  \n",
       "4          93.994          -36.4      4.857       5191.0  no  \n",
       "\n",
       "[5 rows x 21 columns]"
      ]
     },
     "execution_count": 84,
     "metadata": {},
     "output_type": "execute_result"
    }
   ],
   "source": [
    "bankDF.head()"
   ]
  },
  {
   "cell_type": "markdown",
   "metadata": {},
   "source": [
    "### Problem 3: Understanding the Features\n",
    "\n",
    "\n",
    "Examine the data description below, and determine if any of the features are missing values or need to be coerced to a different data type.\n",
    "\n",
    "\n",
    "```\n",
    "Input variables:\n",
    "# bank client data:\n",
    "1 - age (numeric)\n",
    "2 - job : type of job (categorical: 'admin.','blue-collar','entrepreneur','housemaid','management','retired','self-employed','services','student','technician','unemployed','unknown')\n",
    "3 - marital : marital status (categorical: 'divorced','married','single','unknown'; note: 'divorced' means divorced or widowed)\n",
    "4 - education (categorical: 'basic.4y','basic.6y','basic.9y','high.school','illiterate','professional.course','university.degree','unknown')\n",
    "5 - default: has credit in default? (categorical: 'no','yes','unknown')\n",
    "6 - housing: has housing loan? (categorical: 'no','yes','unknown')\n",
    "7 - loan: has personal loan? (categorical: 'no','yes','unknown')\n",
    "# related with the last contact of the current campaign:\n",
    "8 - contact: contact communication type (categorical: 'cellular','telephone')\n",
    "9 - month: last contact month of year (categorical: 'jan', 'feb', 'mar', ..., 'nov', 'dec')\n",
    "10 - day_of_week: last contact day of the week (categorical: 'mon','tue','wed','thu','fri')\n",
    "11 - duration: last contact duration, in seconds (numeric). Important note: this attribute highly affects the output target (e.g., if duration=0 then y='no'). Yet, the duration is not known before a call is performed. Also, after the end of the call y is obviously known. Thus, this input should only be included for benchmark purposes and should be discarded if the intention is to have a realistic predictive model.\n",
    "# other attributes:\n",
    "12 - campaign: number of contacts performed during this campaign and for this client (numeric, includes last contact)\n",
    "13 - pdays: number of days that passed by after the client was last contacted from a previous campaign (numeric; 999 means client was not previously contacted)\n",
    "14 - previous: number of contacts performed before this campaign and for this client (numeric)\n",
    "15 - poutcome: outcome of the previous marketing campaign (categorical: 'failure','nonexistent','success')\n",
    "# social and economic context attributes\n",
    "16 - emp.var.rate: employment variation rate - quarterly indicator (numeric)\n",
    "17 - cons.price.idx: consumer price index - monthly indicator (numeric)\n",
    "18 - cons.conf.idx: consumer confidence index - monthly indicator (numeric)\n",
    "19 - euribor3m: euribor 3 month rate - daily indicator (numeric)\n",
    "20 - nr.employed: number of employees - quarterly indicator (numeric)\n",
    "\n",
    "Output variable (desired target):\n",
    "21 - y - has the client subscribed a term deposit? (binary: 'yes','no')\n",
    "```\n",
    "\n"
   ]
  },
  {
   "cell_type": "code",
   "execution_count": 85,
   "metadata": {},
   "outputs": [
    {
     "data": {
      "text/plain": [
       "y\n",
       "no     36548\n",
       "yes     4640\n",
       "Name: count, dtype: int64"
      ]
     },
     "execution_count": 85,
     "metadata": {},
     "output_type": "execute_result"
    }
   ],
   "source": [
    "# Get the count for each class\n",
    "bankDF[\"y\"].value_counts()"
   ]
  },
  {
   "cell_type": "markdown",
   "metadata": {},
   "source": [
    "Based on what the description for #11, duration, it seems wise to not use it in the predictive models."
   ]
  },
  {
   "cell_type": "code",
   "execution_count": 86,
   "metadata": {},
   "outputs": [
    {
     "data": {
      "text/plain": [
       "age               0\n",
       "job               0\n",
       "marital           0\n",
       "education         0\n",
       "default           0\n",
       "housing           0\n",
       "loan              0\n",
       "contact           0\n",
       "month             0\n",
       "day_of_week       0\n",
       "duration          0\n",
       "campaign          0\n",
       "pdays             0\n",
       "previous          0\n",
       "poutcome          0\n",
       "emp.var.rate      0\n",
       "cons.price.idx    0\n",
       "cons.conf.idx     0\n",
       "euribor3m         0\n",
       "nr.employed       0\n",
       "y                 0\n",
       "dtype: int64"
      ]
     },
     "execution_count": 86,
     "metadata": {},
     "output_type": "execute_result"
    }
   ],
   "source": [
    "# We look at the # of missing values in the df\n",
    "bankDF.isna().sum()"
   ]
  },
  {
   "cell_type": "markdown",
   "metadata": {},
   "source": [
    "Impressively enough, there is no missing values in the dataframe"
   ]
  },
  {
   "cell_type": "markdown",
   "metadata": {},
   "source": [
    "We check the number of \"unknown\" in some of the categorical values (default, marital, housing, loan, job, education) since it's not great to have a prediction model be based on unknown data"
   ]
  },
  {
   "cell_type": "code",
   "execution_count": 87,
   "metadata": {},
   "outputs": [
    {
     "data": {
      "text/plain": [
       "default\n",
       "no         32588\n",
       "unknown     8597\n",
       "yes            3\n",
       "Name: count, dtype: int64"
      ]
     },
     "execution_count": 87,
     "metadata": {},
     "output_type": "execute_result"
    }
   ],
   "source": [
    "bankDF[\"default\"].value_counts()"
   ]
  },
  {
   "cell_type": "code",
   "execution_count": 88,
   "metadata": {},
   "outputs": [
    {
     "data": {
      "text/plain": [
       "housing\n",
       "yes        21576\n",
       "no         18622\n",
       "unknown      990\n",
       "Name: count, dtype: int64"
      ]
     },
     "execution_count": 88,
     "metadata": {},
     "output_type": "execute_result"
    }
   ],
   "source": [
    "bankDF[\"housing\"].value_counts()"
   ]
  },
  {
   "cell_type": "code",
   "execution_count": 89,
   "metadata": {},
   "outputs": [
    {
     "data": {
      "text/plain": [
       "loan\n",
       "no         33950\n",
       "yes         6248\n",
       "unknown      990\n",
       "Name: count, dtype: int64"
      ]
     },
     "execution_count": 89,
     "metadata": {},
     "output_type": "execute_result"
    }
   ],
   "source": [
    "bankDF[\"loan\"].value_counts()"
   ]
  },
  {
   "cell_type": "code",
   "execution_count": 90,
   "metadata": {},
   "outputs": [
    {
     "data": {
      "text/plain": [
       "education\n",
       "university.degree      12168\n",
       "high.school             9515\n",
       "basic.9y                6045\n",
       "professional.course     5243\n",
       "basic.4y                4176\n",
       "basic.6y                2292\n",
       "unknown                 1731\n",
       "illiterate                18\n",
       "Name: count, dtype: int64"
      ]
     },
     "execution_count": 90,
     "metadata": {},
     "output_type": "execute_result"
    }
   ],
   "source": [
    "bankDF[\"education\"].value_counts()"
   ]
  },
  {
   "cell_type": "code",
   "execution_count": 91,
   "metadata": {},
   "outputs": [
    {
     "data": {
      "text/plain": [
       "job\n",
       "admin.           10422\n",
       "blue-collar       9254\n",
       "technician        6743\n",
       "services          3969\n",
       "management        2924\n",
       "retired           1720\n",
       "entrepreneur      1456\n",
       "self-employed     1421\n",
       "housemaid         1060\n",
       "unemployed        1014\n",
       "student            875\n",
       "unknown            330\n",
       "Name: count, dtype: int64"
      ]
     },
     "execution_count": 91,
     "metadata": {},
     "output_type": "execute_result"
    }
   ],
   "source": [
    "bankDF[\"job\"].value_counts()"
   ]
  },
  {
   "cell_type": "code",
   "execution_count": 92,
   "metadata": {},
   "outputs": [
    {
     "data": {
      "text/plain": [
       "marital\n",
       "married     24928\n",
       "single      11568\n",
       "divorced     4612\n",
       "unknown        80\n",
       "Name: count, dtype: int64"
      ]
     },
     "execution_count": 92,
     "metadata": {},
     "output_type": "execute_result"
    }
   ],
   "source": [
    "bankDF[\"marital\"].value_counts()"
   ]
  },
  {
   "cell_type": "code",
   "execution_count": 93,
   "metadata": {},
   "outputs": [
    {
     "data": {
      "text/plain": [
       "30488"
      ]
     },
     "execution_count": 93,
     "metadata": {},
     "output_type": "execute_result"
    }
   ],
   "source": [
    "len( bankDF.query( \"loan != 'unknown' & housing != 'unknown' & default != 'unknown' & job != 'unknown' & education != 'unknown' & marital != 'unknown'\" ) )"
   ]
  },
  {
   "cell_type": "code",
   "execution_count": 94,
   "metadata": {},
   "outputs": [
    {
     "data": {
      "text/plain": [
       "41188"
      ]
     },
     "execution_count": 94,
     "metadata": {},
     "output_type": "execute_result"
    }
   ],
   "source": [
    "len( bankDF )"
   ]
  },
  {
   "cell_type": "markdown",
   "metadata": {},
   "source": [
    "We lose around 25% of the data if we remove the \"unknown\" values from the data. However, it seems like most of this comes from default, which has a significant imbalance between yes and no. Thus, it probably won't be of much use in the modeling, so we should remove it."
   ]
  },
  {
   "cell_type": "code",
   "execution_count": 95,
   "metadata": {},
   "outputs": [
    {
     "data": {
      "text/plain": [
       "38245"
      ]
     },
     "execution_count": 95,
     "metadata": {},
     "output_type": "execute_result"
    }
   ],
   "source": [
    "# Removing default from the query\n",
    "filteredLen = len( bankDF.query( \"loan != 'unknown' & housing != 'unknown' & job != 'unknown' & education != 'unknown' & marital != 'unknown'\" ) )\n",
    "filteredLen"
   ]
  },
  {
   "cell_type": "code",
   "execution_count": 96,
   "metadata": {},
   "outputs": [
    {
     "data": {
      "text/plain": [
       "0.9285471496552394"
      ]
     },
     "execution_count": 96,
     "metadata": {},
     "output_type": "execute_result"
    }
   ],
   "source": [
    "filteredLen / len( bankDF )"
   ]
  },
  {
   "cell_type": "markdown",
   "metadata": {},
   "source": [
    "By filtering out the unknowns in the categorical values, we only reduced the dataset by 7%, which is really decent. Thus, when preparing the data, we should drop any row that has \"unknown\" in the categorical variables to avoid training unknown data."
   ]
  },
  {
   "cell_type": "markdown",
   "metadata": {},
   "source": [
    "### Problem 4: Understanding the Task\n",
    "\n",
    "After examining the description and data, your goal now is to clearly state the *Business Objective* of the task.  State the objective below."
   ]
  },
  {
   "cell_type": "code",
   "execution_count": 97,
   "metadata": {},
   "outputs": [
    {
     "name": "stdout",
     "output_type": "stream",
     "text": [
      "<class 'pandas.core.frame.DataFrame'>\n",
      "RangeIndex: 41188 entries, 0 to 41187\n",
      "Data columns (total 21 columns):\n",
      " #   Column          Non-Null Count  Dtype  \n",
      "---  ------          --------------  -----  \n",
      " 0   age             41188 non-null  int64  \n",
      " 1   job             41188 non-null  object \n",
      " 2   marital         41188 non-null  object \n",
      " 3   education       41188 non-null  object \n",
      " 4   default         41188 non-null  object \n",
      " 5   housing         41188 non-null  object \n",
      " 6   loan            41188 non-null  object \n",
      " 7   contact         41188 non-null  object \n",
      " 8   month           41188 non-null  object \n",
      " 9   day_of_week     41188 non-null  object \n",
      " 10  duration        41188 non-null  int64  \n",
      " 11  campaign        41188 non-null  int64  \n",
      " 12  pdays           41188 non-null  int64  \n",
      " 13  previous        41188 non-null  int64  \n",
      " 14  poutcome        41188 non-null  object \n",
      " 15  emp.var.rate    41188 non-null  float64\n",
      " 16  cons.price.idx  41188 non-null  float64\n",
      " 17  cons.conf.idx   41188 non-null  float64\n",
      " 18  euribor3m       41188 non-null  float64\n",
      " 19  nr.employed     41188 non-null  float64\n",
      " 20  y               41188 non-null  object \n",
      "dtypes: float64(5), int64(5), object(11)\n",
      "memory usage: 6.6+ MB\n"
     ]
    }
   ],
   "source": [
    "bankDF.info()"
   ]
  },
  {
   "cell_type": "markdown",
   "metadata": {},
   "source": [
    "Our business objective for this project is to create a classification model that can accurately predict whether a bank client has or has not subscribed to a term deposit. These predictions will be based on the features provided by the given dataset. In addition, we would like to identify features that have a strong impact on the model so that we can convey to the bank what features to focus on for their next mamrketing campaign."
   ]
  },
  {
   "cell_type": "markdown",
   "metadata": {},
   "source": [
    "### Problem 5: Engineering Features\n",
    "\n",
    "Now that you understand your business objective, we will build a basic model to get started.  Before we can do this, we must work to encode the data.  Using just the bank information features, prepare the features and target column for modeling with appropriate encoding and transformations."
   ]
  },
  {
   "cell_type": "code",
   "execution_count": 98,
   "metadata": {},
   "outputs": [
    {
     "name": "stdout",
     "output_type": "stream",
     "text": [
      "<class 'pandas.core.frame.DataFrame'>\n",
      "RangeIndex: 41188 entries, 0 to 41187\n",
      "Data columns (total 19 columns):\n",
      " #   Column          Non-Null Count  Dtype  \n",
      "---  ------          --------------  -----  \n",
      " 0   age             41188 non-null  int64  \n",
      " 1   job             41188 non-null  object \n",
      " 2   marital         41188 non-null  object \n",
      " 3   education       41188 non-null  object \n",
      " 4   housing         41188 non-null  object \n",
      " 5   loan            41188 non-null  object \n",
      " 6   contact         41188 non-null  object \n",
      " 7   month           41188 non-null  object \n",
      " 8   day_of_week     41188 non-null  object \n",
      " 9   campaign        41188 non-null  int64  \n",
      " 10  pdays           41188 non-null  int64  \n",
      " 11  previous        41188 non-null  int64  \n",
      " 12  poutcome        41188 non-null  object \n",
      " 13  emp.var.rate    41188 non-null  float64\n",
      " 14  cons.price.idx  41188 non-null  float64\n",
      " 15  cons.conf.idx   41188 non-null  float64\n",
      " 16  euribor3m       41188 non-null  float64\n",
      " 17  nr.employed     41188 non-null  float64\n",
      " 18  y               41188 non-null  object \n",
      "dtypes: float64(5), int64(4), object(10)\n",
      "memory usage: 6.0+ MB\n"
     ]
    }
   ],
   "source": [
    "# For the features, as mentioned above, we want to drop the \"default\" and \"duration\" features.\n",
    "filtered_columns = bankDF.drop( [\"default\", \"duration\"], axis = 1 )\n",
    "filtered_columns.info()"
   ]
  },
  {
   "cell_type": "code",
   "execution_count": 99,
   "metadata": {},
   "outputs": [],
   "source": [
    "# In addition, as mentioned above, we want to drop all rows with \"unknown\" for the categorical columns\n",
    "filtered_columns = filtered_columns.query( \"loan != 'unknown' & housing != 'unknown' & job != 'unknown' & education != 'unknown' & marital != 'unknown'\" )"
   ]
  },
  {
   "cell_type": "code",
   "execution_count": 100,
   "metadata": {
    "scrolled": false
   },
   "outputs": [
    {
     "name": "stdout",
     "output_type": "stream",
     "text": [
      "<class 'pandas.core.frame.DataFrame'>\n",
      "Index: 38245 entries, 0 to 41187\n",
      "Data columns (total 18 columns):\n",
      " #   Column          Non-Null Count  Dtype  \n",
      "---  ------          --------------  -----  \n",
      " 0   age             38245 non-null  int64  \n",
      " 1   job             38245 non-null  object \n",
      " 2   marital         38245 non-null  object \n",
      " 3   education       38245 non-null  object \n",
      " 4   housing         38245 non-null  object \n",
      " 5   loan            38245 non-null  object \n",
      " 6   contact         38245 non-null  object \n",
      " 7   month           38245 non-null  object \n",
      " 8   day_of_week     38245 non-null  object \n",
      " 9   campaign        38245 non-null  int64  \n",
      " 10  pdays           38245 non-null  int64  \n",
      " 11  previous        38245 non-null  int64  \n",
      " 12  poutcome        38245 non-null  object \n",
      " 13  emp.var.rate    38245 non-null  float64\n",
      " 14  cons.price.idx  38245 non-null  float64\n",
      " 15  cons.conf.idx   38245 non-null  float64\n",
      " 16  euribor3m       38245 non-null  float64\n",
      " 17  nr.employed     38245 non-null  float64\n",
      "dtypes: float64(5), int64(4), object(9)\n",
      "memory usage: 5.5+ MB\n"
     ]
    }
   ],
   "source": [
    "# Now that we filtered the features and dropped unknown values, we separate the features and the target value\n",
    "X, y = filtered_columns.drop( \"y\", axis = 1 ), filtered_columns[\"y\"]\n",
    "X.info()"
   ]
  },
  {
   "cell_type": "code",
   "execution_count": 146,
   "metadata": {},
   "outputs": [],
   "source": [
    "# We now need to encode the categorical features and scale the numerical features. We can do this using a column transformer.\n",
    "from sklearn.compose import make_column_selector, make_column_transformer\n",
    "from sklearn.preprocessing import StandardScaler, OneHotEncoder\n",
    "\n",
    "transformer = make_column_transformer( \n",
    "    ( OneHotEncoder( drop = \"if_binary\", handle_unknown='ignore' ), make_column_selector( dtype_include=object ) ),\n",
    "    remainder = StandardScaler() )"
   ]
  },
  {
   "cell_type": "markdown",
   "metadata": {},
   "source": [
    "### Problem 6: Train/Test Split\n",
    "\n",
    "With your data prepared, split it into a train and test set."
   ]
  },
  {
   "cell_type": "code",
   "execution_count": 102,
   "metadata": {},
   "outputs": [
    {
     "name": "stdout",
     "output_type": "stream",
     "text": [
      "28683 9562 28683 9562\n"
     ]
    }
   ],
   "source": [
    "# We split the train-test data by 25-75\n",
    "from sklearn.model_selection import train_test_split\n",
    "\n",
    "X_train, X_test, y_train, y_test = train_test_split( X, y )\n",
    "\n",
    "print( len(X_train), len(X_test), len(y_train), len(y_test) )"
   ]
  },
  {
   "cell_type": "markdown",
   "metadata": {},
   "source": [
    "### Problem 7: A Baseline Model\n",
    "\n",
    "Before we build our first model, we want to establish a baseline.  What is the baseline performance that our classifier should aim to beat?"
   ]
  },
  {
   "cell_type": "code",
   "execution_count": 103,
   "metadata": {},
   "outputs": [
    {
     "name": "stdout",
     "output_type": "stream",
     "text": [
      "Training Accuracy 0.8881567478994526\n",
      "Testing Accuracy 0.890190336749634\n"
     ]
    }
   ],
   "source": [
    "# The baseline model should just be a model that always returns \"no\"\n",
    "# We use the Dummy Classifier to do this\n",
    "from sklearn.dummy import DummyClassifier\n",
    "from sklearn.metrics import accuracy_score\n",
    "\n",
    "baseline_model = DummyClassifier().fit( X_train, y_train )\n",
    "\n",
    "baseline_trainScore = accuracy_score( y_train, baseline_model.predict( X_train ) )\n",
    "baseline_testScore = accuracy_score( y_test, baseline_model.predict( X_test ) )                       \n",
    "\n",
    "print( \"Training Accuracy\", baseline_trainScore )\n",
    "print( \"Testing Accuracy\", baseline_testScore )"
   ]
  },
  {
   "cell_type": "markdown",
   "metadata": {},
   "source": [
    "As we can see, we need a model that has 89% or above accuracy"
   ]
  },
  {
   "cell_type": "markdown",
   "metadata": {},
   "source": [
    "### Problem 8: A Simple Model\n",
    "\n",
    "Use Logistic Regression to build a basic model on your data.  "
   ]
  },
  {
   "cell_type": "code",
   "execution_count": 104,
   "metadata": {},
   "outputs": [
    {
     "name": "stderr",
     "output_type": "stream",
     "text": [
      "C:\\Users\\Derek\\anaconda3\\Lib\\site-packages\\sklearn\\linear_model\\_logistic.py:460: ConvergenceWarning: lbfgs failed to converge (status=1):\n",
      "STOP: TOTAL NO. of ITERATIONS REACHED LIMIT.\n",
      "\n",
      "Increase the number of iterations (max_iter) or scale the data as shown in:\n",
      "    https://scikit-learn.org/stable/modules/preprocessing.html\n",
      "Please also refer to the documentation for alternative solver options:\n",
      "    https://scikit-learn.org/stable/modules/linear_model.html#logistic-regression\n",
      "  n_iter_i = _check_optimize_result(\n"
     ]
    }
   ],
   "source": [
    "from sklearn.linear_model import LogisticRegression\n",
    "from sklearn.pipeline import Pipeline\n",
    "\n",
    "logRegPipe = Pipeline([\n",
    "    ( \"transform\", transformer ),\n",
    "    ( \"logreg\", LogisticRegression() )\n",
    "]).fit( X_train, y_train )"
   ]
  },
  {
   "cell_type": "markdown",
   "metadata": {},
   "source": [
    "We get a convergence warning since we need a higher max_iter"
   ]
  },
  {
   "cell_type": "markdown",
   "metadata": {},
   "source": [
    "### Problem 9: Score the Model\n",
    "\n",
    "What is the accuracy of your model?"
   ]
  },
  {
   "cell_type": "code",
   "execution_count": 105,
   "metadata": {},
   "outputs": [
    {
     "name": "stdout",
     "output_type": "stream",
     "text": [
      "Training Accuracy 0.9011958302827459\n",
      "Testing Accuracy 0.9004392386530015\n"
     ]
    }
   ],
   "source": [
    "print( \"Training Accuracy\", accuracy_score( y_train, logRegPipe.predict( X_train ) ) )\n",
    "print( \"Testing Accuracy\", accuracy_score( y_test, logRegPipe.predict( X_test ) ) )"
   ]
  },
  {
   "cell_type": "markdown",
   "metadata": {},
   "source": [
    "As we can see, the logistic regression model is slightly more accurate than the baseline model."
   ]
  },
  {
   "cell_type": "markdown",
   "metadata": {},
   "source": [
    "### Problem 10: Model Comparisons\n",
    "\n",
    "Now, we aim to compare the performance of the Logistic Regression model to our KNN algorithm, Decision Tree, and SVM models.  Using the default settings for each of the models, fit and score each.  Also, be sure to compare the fit time of each of the models.  Present your findings in a `DataFrame` similar to that below:\n",
    "\n",
    "| Model | Train Time | Train Accuracy | Test Accuracy |\n",
    "| ----- | ---------- | -------------  | -----------   |\n",
    "|     |    |.     |.     |"
   ]
  },
  {
   "cell_type": "code",
   "execution_count": 106,
   "metadata": {},
   "outputs": [],
   "source": [
    "# To reduce redundant code, we'll create a method that records the training accuracy, testing accuracy, and train time\n",
    "from time import process_time # code taken from https://stackoverflow.com/questions/74818246/how-to-calculate-running-time-for-a-scikit-learn-model\n",
    "\n",
    "def trainAndScore( classifier ):\n",
    "    \n",
    "    pipe = Pipeline([\n",
    "        ( \"transform\", transformer ),\n",
    "        ( \"classifier\", classifier )\n",
    "    ])\n",
    "    \n",
    "    start = process_time()\n",
    "    pipe.fit( X_train, y_train )\n",
    "    end = process_time()\n",
    "    \n",
    "    trainScore = accuracy_score( y_train, pipe.predict( X_train ) )\n",
    "    testScore = accuracy_score( y_test, pipe.predict( X_test ) )\n",
    "    time = end - start\n",
    "    print( trainScore, testScore, time )\n",
    "    \n",
    "    return [trainScore, testScore, time]"
   ]
  },
  {
   "cell_type": "code",
   "execution_count": 107,
   "metadata": {},
   "outputs": [],
   "source": [
    "# Import all the classifiers\n",
    "from sklearn.neighbors import KNeighborsClassifier\n",
    "from sklearn.tree import DecisionTreeClassifier\n",
    "from sklearn.svm import SVC"
   ]
  },
  {
   "cell_type": "code",
   "execution_count": 108,
   "metadata": {},
   "outputs": [
    {
     "name": "stdout",
     "output_type": "stream",
     "text": [
      "0.9011958302827459 0.9004392386530015 1.609375\n"
     ]
    },
    {
     "name": "stderr",
     "output_type": "stream",
     "text": [
      "C:\\Users\\Derek\\anaconda3\\Lib\\site-packages\\sklearn\\linear_model\\_logistic.py:460: ConvergenceWarning: lbfgs failed to converge (status=1):\n",
      "STOP: TOTAL NO. of ITERATIONS REACHED LIMIT.\n",
      "\n",
      "Increase the number of iterations (max_iter) or scale the data as shown in:\n",
      "    https://scikit-learn.org/stable/modules/preprocessing.html\n",
      "Please also refer to the documentation for alternative solver options:\n",
      "    https://scikit-learn.org/stable/modules/linear_model.html#logistic-regression\n",
      "  n_iter_i = _check_optimize_result(\n"
     ]
    }
   ],
   "source": [
    "# Train the logistic regression model\n",
    "LogRegResults = trainAndScore( LogisticRegression() )"
   ]
  },
  {
   "cell_type": "code",
   "execution_count": 109,
   "metadata": {},
   "outputs": [
    {
     "name": "stdout",
     "output_type": "stream",
     "text": [
      "0.9139908656695603 0.8897720142229659 0.625\n"
     ]
    }
   ],
   "source": [
    "# Train the KNN model\n",
    "KNNResults = trainAndScore( KNeighborsClassifier() )"
   ]
  },
  {
   "cell_type": "code",
   "execution_count": 110,
   "metadata": {},
   "outputs": [
    {
     "name": "stdout",
     "output_type": "stream",
     "text": [
      "0.9956420179200223 0.8392595691277975 0.765625\n"
     ]
    }
   ],
   "source": [
    "# Train the decision tree model\n",
    "TreeResults = trainAndScore( DecisionTreeClassifier() )"
   ]
  },
  {
   "cell_type": "code",
   "execution_count": 111,
   "metadata": {},
   "outputs": [
    {
     "name": "stdout",
     "output_type": "stream",
     "text": [
      "0.9059024509291218 0.9023216900230078 38.734375\n"
     ]
    }
   ],
   "source": [
    "# Train the SVC model\n",
    "SVCResults = trainAndScore( SVC() )"
   ]
  },
  {
   "cell_type": "code",
   "execution_count": 112,
   "metadata": {},
   "outputs": [],
   "source": [
    "# Create the Dataframe to contain our results\n",
    "results_df = pd.DataFrame( {\"model\":[\"KNN\",\"Logistic Regression\", \"SVC\", \"Decision Tree\"], \n",
    "                            \"Train Score\":[KNNResults[0], LogRegResults[0], SVCResults[0], TreeResults[0]],\n",
    "                         \"Test Score\":[KNNResults[1], LogRegResults[1], SVCResults[1], TreeResults[1]], \n",
    "                            \"Fit Time\":[KNNResults[2], LogRegResults[2], SVCResults[2], TreeResults[2]]})"
   ]
  },
  {
   "cell_type": "code",
   "execution_count": 113,
   "metadata": {},
   "outputs": [
    {
     "data": {
      "text/html": [
       "<div>\n",
       "<style scoped>\n",
       "    .dataframe tbody tr th:only-of-type {\n",
       "        vertical-align: middle;\n",
       "    }\n",
       "\n",
       "    .dataframe tbody tr th {\n",
       "        vertical-align: top;\n",
       "    }\n",
       "\n",
       "    .dataframe thead th {\n",
       "        text-align: right;\n",
       "    }\n",
       "</style>\n",
       "<table border=\"1\" class=\"dataframe\">\n",
       "  <thead>\n",
       "    <tr style=\"text-align: right;\">\n",
       "      <th></th>\n",
       "      <th>model</th>\n",
       "      <th>Train Score</th>\n",
       "      <th>Test Score</th>\n",
       "      <th>Fit Time</th>\n",
       "    </tr>\n",
       "  </thead>\n",
       "  <tbody>\n",
       "    <tr>\n",
       "      <th>0</th>\n",
       "      <td>KNN</td>\n",
       "      <td>0.913991</td>\n",
       "      <td>0.889772</td>\n",
       "      <td>0.625000</td>\n",
       "    </tr>\n",
       "    <tr>\n",
       "      <th>1</th>\n",
       "      <td>Logistic Regression</td>\n",
       "      <td>0.901196</td>\n",
       "      <td>0.900439</td>\n",
       "      <td>1.609375</td>\n",
       "    </tr>\n",
       "    <tr>\n",
       "      <th>2</th>\n",
       "      <td>SVC</td>\n",
       "      <td>0.905902</td>\n",
       "      <td>0.902322</td>\n",
       "      <td>38.734375</td>\n",
       "    </tr>\n",
       "    <tr>\n",
       "      <th>3</th>\n",
       "      <td>Decision Tree</td>\n",
       "      <td>0.995642</td>\n",
       "      <td>0.839260</td>\n",
       "      <td>0.765625</td>\n",
       "    </tr>\n",
       "  </tbody>\n",
       "</table>\n",
       "</div>"
      ],
      "text/plain": [
       "                 model  Train Score  Test Score   Fit Time\n",
       "0                  KNN     0.913991    0.889772   0.625000\n",
       "1  Logistic Regression     0.901196    0.900439   1.609375\n",
       "2                  SVC     0.905902    0.902322  38.734375\n",
       "3        Decision Tree     0.995642    0.839260   0.765625"
      ]
     },
     "execution_count": 113,
     "metadata": {},
     "output_type": "execute_result"
    }
   ],
   "source": [
    "results_df"
   ]
  },
  {
   "cell_type": "code",
   "execution_count": 114,
   "metadata": {},
   "outputs": [
    {
     "data": {
      "image/png": "[encoded data removed]",
      "text/plain": [
       "<Figure size 800x640 with 1 Axes>"
      ]
     },
     "metadata": {},
     "output_type": "display_data"
    }
   ],
   "source": [
    "# Plot the accuracy scores for more clarity\n",
    "import seaborn as sns\n",
    "import matplotlib.pyplot as plt\n",
    "\n",
    "tidy = results_df.melt( id_vars=\"model\", value_vars=[\"Train Score\", \"Test Score\"]).rename(columns=str.title)\n",
    "# print( tidy)\n",
    "plt.figure( figsize=(10, 8), dpi=80 )\n",
    "graph = sns.barplot( tidy, x = \"Model\", y = \"Value\", hue = \"Variable\" )\n",
    "graph.axhline( baseline_testScore, color = \"r\", label = \"Baseline\" )\n",
    "\n",
    "plt.legend(bbox_to_anchor=(1, 1) )\n",
    "plt.title( \"Accuracy Scores of 4 Classification Models\" )\n",
    "plt.xlabel( \"Classification Model\" )\n",
    "plt.ylabel( \"Accuracy\" )\n",
    "plt.savefig( \"images/baseModels.png\", bbox_inches='tight' )"
   ]
  },
  {
   "cell_type": "markdown",
   "metadata": {},
   "source": [
    "As we can see, Logistic Regression and SVC had similar performances with SVC taking a really long time to fit the data. KNN is right at the baseline while the decision tree model did significantly worse than the baseline. However, overall, none of the models performed really well above the baseline."
   ]
  },
  {
   "cell_type": "markdown",
   "metadata": {},
   "source": [
    "### Problem 11: Improving the Model\n",
    "\n",
    "Now that we have some basic models on the board, we want to try to improve these.  Below, we list a few things to explore in this pursuit.\n",
    "\n",
    "- More feature engineering and exploration.  For example, should we keep the gender feature?  Why or why not?\n",
    "- Hyperparameter tuning and grid search.  All of our models have additional hyperparameters to tune and explore.  For example the number of neighbors in KNN or the maximum depth of a Decision Tree.  \n",
    "- Adjust your performance metric"
   ]
  },
  {
   "cell_type": "markdown",
   "metadata": {},
   "source": [
    "### Adjust Performance Metric"
   ]
  },
  {
   "cell_type": "markdown",
   "metadata": {},
   "source": [
    "For the performance metric, we should be utilizing recall instead of accuracy to focus on identifying as many clients that will subscribe to a term deposit as possible. This is because the bank promotions are designed to aim at this demographic. So the more potential clients we can identify with this model, the more successful a future promotion could be. \n",
    "\n",
    "In addition, using accuracy can be really misleading because a majority of the data is \"no\", which is why our baseline model had such high accuracy. However, if we were to use recall as the performance metric, the baseline model would have a score of 0 since it would fail to identify any clients willing to subscribe."
   ]
  },
  {
   "cell_type": "code",
   "execution_count": 115,
   "metadata": {},
   "outputs": [
    {
     "name": "stdout",
     "output_type": "stream",
     "text": [
      "0.0\n"
     ]
    },
    {
     "name": "stderr",
     "output_type": "stream",
     "text": [
      "C:\\Users\\Derek\\anaconda3\\Lib\\site-packages\\sklearn\\linear_model\\_logistic.py:460: ConvergenceWarning: lbfgs failed to converge (status=1):\n",
      "STOP: TOTAL NO. of ITERATIONS REACHED LIMIT.\n",
      "\n",
      "Increase the number of iterations (max_iter) or scale the data as shown in:\n",
      "    https://scikit-learn.org/stable/modules/preprocessing.html\n",
      "Please also refer to the documentation for alternative solver options:\n",
      "    https://scikit-learn.org/stable/modules/linear_model.html#logistic-regression\n",
      "  n_iter_i = _check_optimize_result(\n"
     ]
    },
    {
     "name": "stdout",
     "output_type": "stream",
     "text": [
      "0.23142857142857143\n",
      "0.2695238095238095\n",
      "0.31523809523809526\n",
      "0.22380952380952382\n"
     ]
    }
   ],
   "source": [
    "# See what the recall is for the previous basic models\n",
    "from sklearn.metrics import recall_score\n",
    "\n",
    "def getScore( classifier ):\n",
    "    pipe = Pipeline([\n",
    "        ( \"transformer\", transformer ),\n",
    "        ( \"classifier\", classifier )\n",
    "    ])\n",
    "    pipe.fit( X_train, y_train )\n",
    "    print( recall_score( y_test, pipe.predict( X_test ), pos_label = \"yes\" ) )\n",
    "    \n",
    "getScore( DummyClassifier() )\n",
    "getScore( LogisticRegression() )\n",
    "getScore( KNeighborsClassifier() )\n",
    "getScore( DecisionTreeClassifier() )\n",
    "getScore( SVC() )"
   ]
  },
  {
   "cell_type": "markdown",
   "metadata": {},
   "source": [
    "### Feature Engineering and Exploring"
   ]
  },
  {
   "cell_type": "markdown",
   "metadata": {},
   "source": [
    "For features, we already did a bit of cleaning and engineering when we were first given the data. In addition, the gender feature wasn't even part of the original dataset funnily enough. But if it was, it might be worth keeping gender in case we discover a demographic featuring a specific gender that has a liklier chance of subscribing."
   ]
  },
  {
   "cell_type": "code",
   "execution_count": 116,
   "metadata": {},
   "outputs": [
    {
     "name": "stdout",
     "output_type": "stream",
     "text": [
      "pdays\n",
      "999    36879\n",
      "3        393\n",
      "6        379\n",
      "4        106\n",
      "2         57\n",
      "9         55\n",
      "12        53\n",
      "7         52\n",
      "5         45\n",
      "10        44\n",
      "13        33\n",
      "11        26\n",
      "1         24\n",
      "15        22\n",
      "14        18\n",
      "0         15\n",
      "8         14\n",
      "16         8\n",
      "17         6\n",
      "18         5\n",
      "22         3\n",
      "19         3\n",
      "21         2\n",
      "25         1\n",
      "26         1\n",
      "27         1\n",
      "Name: count, dtype: int64\n"
     ]
    }
   ],
   "source": [
    "# Looking through each column to see any useless features we can just remove\n",
    "# Commmented out to not have too much code output\n",
    "# for c in X.columns:\n",
    "#     print( X[c].value_counts() )\n",
    "\n",
    "print( X[\"pdays\"].value_counts() )"
   ]
  },
  {
   "cell_type": "markdown",
   "metadata": {},
   "source": [
    "It seems like for the most part, there isn't any categorical feature that is significantly underrepresented. For numerical features, most of them seem decent. One numerical feature that sticks out like a sore thumb is \"pdays\", with a majority of entries being at 999 days and minority all being below 30. If we scale the data, it seems like the values simply become binary, with 0 being not contacted and 1 being contacted. Thus, it might be more beneficial to change \"pdays\" into a categorical variable of whether the client was contacted before or not rather than have it as numerical."
   ]
  },
  {
   "cell_type": "code",
   "execution_count": 194,
   "metadata": {},
   "outputs": [
    {
     "data": {
      "text/plain": [
       "contacted\n",
       "no     9924\n",
       "yes     373\n",
       "Name: count, dtype: int64"
      ]
     },
     "execution_count": 194,
     "metadata": {},
     "output_type": "execute_result"
    }
   ],
   "source": [
    "# Create a new column \"contacted\" to replace pdays for the training and testing set\n",
    "import numpy as np\n",
    "\n",
    "X_train[\"contacted\"] = np.where( X_train[\"pdays\"] < 999, \"yes\", \"no\" )\n",
    "X_train = X_train.drop( \"pdays\", axis = 1 )\n",
    "X_train[\"contacted\"].value_counts()\n",
    "\n",
    "X_test[\"contacted\"] = np.where( X_test[\"pdays\"] < 999, \"yes\", \"no\" )\n",
    "X_test = X_test.drop( \"pdays\", axis = 1 )\n",
    "X_test[\"contacted\"].value_counts()"
   ]
  },
  {
   "cell_type": "markdown",
   "metadata": {},
   "source": [
    "### Hyperparameter Tuning and Grid Search"
   ]
  },
  {
   "cell_type": "markdown",
   "metadata": {},
   "source": [
    "Lastly, we can improve our models by utilizing GridSearchCV and hyperparameters to tune our models."
   ]
  },
  {
   "cell_type": "code",
   "execution_count": 119,
   "metadata": {},
   "outputs": [],
   "source": [
    "# We recreate the trainAndScore(). But this time, we introduce GridSearch and hyperparameters to find the best model.\n",
    "# We also use recall too rather than accuracy\n",
    "\n",
    "from sklearn.metrics import recall_score\n",
    "from sklearn.model_selection import GridSearchCV\n",
    "from sklearn.metrics import recall_score, make_scorer\n",
    "\n",
    "custom_scorer = make_scorer(recall_score, pos_label=\"yes\" )\n",
    "\n",
    "def searchTrainAndScore( classifier, param_grid ):\n",
    "    \n",
    "    pipe = Pipeline([\n",
    "        ( \"transform\", transformer ),\n",
    "        ( \"classifier\", classifier )\n",
    "    ])\n",
    "    \n",
    "    grid = GridSearchCV( pipe, param_grid, scoring = custom_scorer )\n",
    "    grid.fit( X_train, y_train )\n",
    "    \n",
    "    trainScore = grid.score( X_train, y_train )\n",
    "    testScore = grid.score( X_test, y_test )\n",
    "    \n",
    "    # Since GridSearchCV has a mean_fit_time, we can use it rather than timing it ourselves\n",
    "    time = np.mean( grid.cv_results_[\"mean_fit_time\"] )\n",
    "    print( trainScore, testScore, time )\n",
    "    \n",
    "    return [trainScore, testScore, time, grid]"
   ]
  },
  {
   "cell_type": "code",
   "execution_count": 120,
   "metadata": {},
   "outputs": [
    {
     "name": "stdout",
     "output_type": "stream",
     "text": [
      "0.23659600997506233 0.23238095238095238 0.19707377719879152\n"
     ]
    }
   ],
   "source": [
    "# Logistic Regression\n",
    "# For the param grid, we test out different solvers and hyperparameters\n",
    "# We also set max_iter to 1000 so it can fit better\n",
    "\n",
    "logreg_param_grid = { \"classifier__solver\": [\"liblinear\",\"lbfgs\"], \n",
    "              \"classifier__C\": np.linspace(0.1, 5, 5), \n",
    "              \"classifier__tol\": np.linspace(0.00001,0.001, 5), \n",
    "              \"classifier__max_iter\": [1000]}\n",
    "\n",
    "logreg_gridresults = searchTrainAndScore( LogisticRegression(), logreg_param_grid )"
   ]
  },
  {
   "cell_type": "code",
   "execution_count": 121,
   "metadata": {},
   "outputs": [
    {
     "name": "stdout",
     "output_type": "stream",
     "text": [
      "0.9819201995012469 0.30952380952380953 0.06937191486358642\n"
     ]
    }
   ],
   "source": [
    "# K Nearest Neighbors\n",
    "# For the param grid, we change the # of neighbors and how neighbors are weighted\n",
    "\n",
    "KNN_param_grid = { \"classifier__n_neighbors\": [i for i in range( 1, 12, 2 )], \"classifier__weights\": [\"uniform\", \"distance\"]}\n",
    "\n",
    "knn_gridresults = searchTrainAndScore( KNeighborsClassifier(), KNN_param_grid )"
   ]
  },
  {
   "cell_type": "code",
   "execution_count": 122,
   "metadata": {},
   "outputs": [
    {
     "name": "stdout",
     "output_type": "stream",
     "text": [
      "0.962281795511222 0.32095238095238093 0.1201311124165853\n"
     ]
    }
   ],
   "source": [
    "# Decision Tree\n",
    "# For the param grid, we change the hyperparameters that decide on splits\n",
    "\n",
    "tree_param_grid = {\"classifier__min_impurity_decrease\":[0, 0.01,0.05,0.1,0.5], \n",
    "                   \"classifier__max_depth\":[2,5,10,20,None],\n",
    "                   \"classifier__min_samples_split\":[2,4,5],\n",
    "                    \"classifier__criterion\":[\"gini\",\"entropy\"] }\n",
    "\n",
    "tree_gridresults = searchTrainAndScore( DecisionTreeClassifier(), tree_param_grid )"
   ]
  },
  {
   "cell_type": "code",
   "execution_count": 163,
   "metadata": {},
   "outputs": [
    {
     "name": "stdout",
     "output_type": "stream",
     "text": [
      "0.2328332371609925 0.24616695059625213 16.021579774220783\n"
     ]
    }
   ],
   "source": [
    "# SVC\n",
    "# For SVC, training already takes a really long time, so we can only do a small grid search\n",
    "svc_param_grid = {\"classifier__kernel\": [\"rbf\",\"poly\",\"sigmoid\"]}\n",
    "\n",
    "svc_gridresults = searchTrainAndScore( SVC(), svc_param_grid )"
   ]
  },
  {
   "cell_type": "code",
   "execution_count": 164,
   "metadata": {},
   "outputs": [],
   "source": [
    "# Create the Dataframe to contain our results\n",
    "grid_results_df = pd.DataFrame( {\"model\":[\"KNN\",\"Logistic Regression\", \"SVC\", \"Decision Tree\"], \n",
    "                                 \"Train Score\":[knn_gridresults[0], logreg_gridresults[0], svc_gridresults[0], tree_gridresults[0]],\n",
    "                                 \"Test Score\":[knn_gridresults[1], logreg_gridresults[1], svc_gridresults[1], tree_gridresults[1]], \n",
    "                                 \"Fit Time\":[knn_gridresults[2], logreg_gridresults[2], svc_gridresults[2], tree_gridresults[2]]})"
   ]
  },
  {
   "cell_type": "code",
   "execution_count": 165,
   "metadata": {},
   "outputs": [
    {
     "data": {
      "text/html": [
       "<div>\n",
       "<style scoped>\n",
       "    .dataframe tbody tr th:only-of-type {\n",
       "        vertical-align: middle;\n",
       "    }\n",
       "\n",
       "    .dataframe tbody tr th {\n",
       "        vertical-align: top;\n",
       "    }\n",
       "\n",
       "    .dataframe thead th {\n",
       "        text-align: right;\n",
       "    }\n",
       "</style>\n",
       "<table border=\"1\" class=\"dataframe\">\n",
       "  <thead>\n",
       "    <tr style=\"text-align: right;\">\n",
       "      <th></th>\n",
       "      <th>model</th>\n",
       "      <th>Train Score</th>\n",
       "      <th>Test Score</th>\n",
       "      <th>Fit Time</th>\n",
       "    </tr>\n",
       "  </thead>\n",
       "  <tbody>\n",
       "    <tr>\n",
       "      <th>0</th>\n",
       "      <td>KNN</td>\n",
       "      <td>0.981920</td>\n",
       "      <td>0.309524</td>\n",
       "      <td>0.069372</td>\n",
       "    </tr>\n",
       "    <tr>\n",
       "      <th>1</th>\n",
       "      <td>Logistic Regression</td>\n",
       "      <td>0.236596</td>\n",
       "      <td>0.232381</td>\n",
       "      <td>0.197074</td>\n",
       "    </tr>\n",
       "    <tr>\n",
       "      <th>2</th>\n",
       "      <td>SVC</td>\n",
       "      <td>0.232833</td>\n",
       "      <td>0.246167</td>\n",
       "      <td>16.021580</td>\n",
       "    </tr>\n",
       "    <tr>\n",
       "      <th>3</th>\n",
       "      <td>Decision Tree</td>\n",
       "      <td>0.962282</td>\n",
       "      <td>0.320952</td>\n",
       "      <td>0.120131</td>\n",
       "    </tr>\n",
       "  </tbody>\n",
       "</table>\n",
       "</div>"
      ],
      "text/plain": [
       "                 model  Train Score  Test Score   Fit Time\n",
       "0                  KNN     0.981920    0.309524   0.069372\n",
       "1  Logistic Regression     0.236596    0.232381   0.197074\n",
       "2                  SVC     0.232833    0.246167  16.021580\n",
       "3        Decision Tree     0.962282    0.320952   0.120131"
      ]
     },
     "execution_count": 165,
     "metadata": {},
     "output_type": "execute_result"
    }
   ],
   "source": [
    "grid_results_df"
   ]
  },
  {
   "cell_type": "code",
   "execution_count": 166,
   "metadata": {},
   "outputs": [
    {
     "data": {
      "image/png": "[encoded data removed]",
      "text/plain": [
       "<Figure size 640x480 with 1 Axes>"
      ]
     },
     "metadata": {},
     "output_type": "display_data"
    }
   ],
   "source": [
    "# Plot the accuracy scores for more clarity\n",
    "tidy = grid_results_df.melt( id_vars=\"model\", value_vars=[\"Train Score\", \"Test Score\"]).rename(columns=str.title)\n",
    "plt.figure( figsize=(8, 6), dpi=80 )\n",
    "sns.barplot( tidy, x = \"Model\", y = \"Value\", hue = \"Variable\" )\n",
    "\n",
    "plt.legend(bbox_to_anchor=(1.3, 1) )\n",
    "#\n",
    "plt.title( \"Recall Scores of 4 Optimized Classification Models\" )\n",
    "plt.xlabel( \"Classification Model\" )\n",
    "plt.ylabel( \"Recall\" )\n",
    "plt.savefig( \"images/optimalModels.png\", bbox_inches='tight' )"
   ]
  },
  {
   "cell_type": "markdown",
   "metadata": {},
   "source": [
    "From the results, we can see that the Decision Tree model and the KNN model performed the best with a recall score of around 0.3. Now that we have the two best models, we can try to analyze the models to see what the most impactful features are."
   ]
  },
  {
   "cell_type": "markdown",
   "metadata": {},
   "source": [
    "For KNN, we simply find the nearest neighbors. Thus, we can't interpret it to find any features."
   ]
  },
  {
   "cell_type": "markdown",
   "metadata": {},
   "source": [
    "For the decision tree, we can analyze the branches that were created and identify which features were compared first. These were the ones that separated the classes the most."
   ]
  },
  {
   "cell_type": "code",
   "execution_count": 167,
   "metadata": {},
   "outputs": [],
   "source": [
    "# Get the best decision Tree\n",
    "best_tree = tree_gridresults[-1].best_estimator_.named_steps[\"classifier\"]"
   ]
  },
  {
   "cell_type": "code",
   "execution_count": 168,
   "metadata": {},
   "outputs": [
    {
     "data": {
      "image/png": "[encoded data removed]",
      "text/plain": [
       "<Figure size 640x480 with 1 Axes>"
      ]
     },
     "metadata": {},
     "output_type": "display_data"
    }
   ],
   "source": [
    "from sklearn.tree import plot_tree\n",
    "plot = plot_tree( best_tree )"
   ]
  },
  {
   "cell_type": "markdown",
   "metadata": {},
   "source": [
    "Interestingly, the best decision tree is one that is extremely overfitted. This could indicate that there isn't any concrete splits that divide the classes well. This would also imply that currently there isn't any features that determine if a client subscribes are not very impactful."
   ]
  },
  {
   "cell_type": "code",
   "execution_count": 169,
   "metadata": {},
   "outputs": [
    {
     "data": {
      "image/png": "[encoded data removed]",
      "text/plain": [
       "<Figure size 640x480 with 1 Axes>"
      ]
     },
     "metadata": {},
     "output_type": "display_data"
    }
   ],
   "source": [
    "plot = plot_tree( best_tree, max_depth = 2, filled = True, feature_names = list( tree_gridresults[-1].best_estimator_.named_steps[\"transform\"].get_feature_names_out() ) )"
   ]
  },
  {
   "cell_type": "markdown",
   "metadata": {},
   "source": [
    "Perhaps another reason is that we removed some part of the dataset that was crucial or helpful in separating the classes. Thus, it might be better to just not engineer/clean/manipulate the features and try utilizing the full dataset."
   ]
  },
  {
   "cell_type": "markdown",
   "metadata": {},
   "source": [
    "### Utilizing the entire dataset"
   ]
  },
  {
   "cell_type": "markdown",
   "metadata": {},
   "source": [
    "We use the original bank dataset without any manipulation to see how the results change."
   ]
  },
  {
   "cell_type": "code",
   "execution_count": 170,
   "metadata": {},
   "outputs": [],
   "source": [
    "# We save the original train-test set if we need it\n",
    "og_X_train, og_X_test, og_y_train, og_y_test = X_train, X_test, y_train, y_test\n",
    "\n",
    "# We need to split the data again\n",
    "X, y = bankDF.drop( \"y\", axis = 1 ), bankDF[\"y\"]\n",
    "X_train, X_test, y_train, y_test = train_test_split( X, y )"
   ]
  },
  {
   "cell_type": "code",
   "execution_count": 171,
   "metadata": {},
   "outputs": [
    {
     "name": "stdout",
     "output_type": "stream",
     "text": [
      "0.4250649725671383 0.44519966015293116 0.28604211235046384\n"
     ]
    }
   ],
   "source": [
    "all_logreg_gridresults = searchTrainAndScore( LogisticRegression(), logreg_param_grid )"
   ]
  },
  {
   "cell_type": "code",
   "execution_count": 172,
   "metadata": {},
   "outputs": [
    {
     "name": "stdout",
     "output_type": "stream",
     "text": [
      "1.0 0.44519966015293116 0.07631683746973673\n"
     ]
    }
   ],
   "source": [
    "all_knn_gridresults = searchTrainAndScore( KNeighborsClassifier(), KNN_param_grid )"
   ]
  },
  {
   "cell_type": "code",
   "execution_count": 173,
   "metadata": {},
   "outputs": [
    {
     "name": "stdout",
     "output_type": "stream",
     "text": [
      "0.4678024833958995 0.42480883602378927 5.887000052134195\n"
     ]
    }
   ],
   "source": [
    "all_svc_gridresults = searchTrainAndScore( SVC(), svc_param_grid )"
   ]
  },
  {
   "cell_type": "code",
   "execution_count": 174,
   "metadata": {},
   "outputs": [
    {
     "name": "stdout",
     "output_type": "stream",
     "text": [
      "0.5137164308403118 0.4868309260832625 0.09581116104125977\n"
     ]
    }
   ],
   "source": [
    "all_tree_gridresults = searchTrainAndScore( DecisionTreeClassifier(), tree_param_grid )"
   ]
  },
  {
   "cell_type": "code",
   "execution_count": 175,
   "metadata": {},
   "outputs": [],
   "source": [
    "# Create the Dataframe to contain our results\n",
    "all_grid_results_df = pd.DataFrame( {\"model\":[\"KNN\",\"Logistic Regression\", \"SVC\", \"Decision Tree\"], \n",
    "                                 \"Train Score\":[all_knn_gridresults[0], all_logreg_gridresults[0], all_svc_gridresults[0], all_tree_gridresults[0]],\n",
    "                                 \"Test Score\":[all_knn_gridresults[1], all_logreg_gridresults[1], all_svc_gridresults[1], all_tree_gridresults[1]], \n",
    "                                 \"Fit Time\":[all_knn_gridresults[2], all_logreg_gridresults[2], all_svc_gridresults[2], all_tree_gridresults[2]]})"
   ]
  },
  {
   "cell_type": "code",
   "execution_count": 176,
   "metadata": {},
   "outputs": [
    {
     "data": {
      "text/html": [
       "<div>\n",
       "<style scoped>\n",
       "    .dataframe tbody tr th:only-of-type {\n",
       "        vertical-align: middle;\n",
       "    }\n",
       "\n",
       "    .dataframe tbody tr th {\n",
       "        vertical-align: top;\n",
       "    }\n",
       "\n",
       "    .dataframe thead th {\n",
       "        text-align: right;\n",
       "    }\n",
       "</style>\n",
       "<table border=\"1\" class=\"dataframe\">\n",
       "  <thead>\n",
       "    <tr style=\"text-align: right;\">\n",
       "      <th></th>\n",
       "      <th>model</th>\n",
       "      <th>Train Score</th>\n",
       "      <th>Test Score</th>\n",
       "      <th>Fit Time</th>\n",
       "    </tr>\n",
       "  </thead>\n",
       "  <tbody>\n",
       "    <tr>\n",
       "      <th>0</th>\n",
       "      <td>KNN</td>\n",
       "      <td>1.000000</td>\n",
       "      <td>0.445200</td>\n",
       "      <td>0.076317</td>\n",
       "    </tr>\n",
       "    <tr>\n",
       "      <th>1</th>\n",
       "      <td>Logistic Regression</td>\n",
       "      <td>0.425065</td>\n",
       "      <td>0.445200</td>\n",
       "      <td>0.286042</td>\n",
       "    </tr>\n",
       "    <tr>\n",
       "      <th>2</th>\n",
       "      <td>SVC</td>\n",
       "      <td>0.467802</td>\n",
       "      <td>0.424809</td>\n",
       "      <td>5.887000</td>\n",
       "    </tr>\n",
       "    <tr>\n",
       "      <th>3</th>\n",
       "      <td>Decision Tree</td>\n",
       "      <td>0.513716</td>\n",
       "      <td>0.486831</td>\n",
       "      <td>0.095811</td>\n",
       "    </tr>\n",
       "  </tbody>\n",
       "</table>\n",
       "</div>"
      ],
      "text/plain": [
       "                 model  Train Score  Test Score  Fit Time\n",
       "0                  KNN     1.000000    0.445200  0.076317\n",
       "1  Logistic Regression     0.425065    0.445200  0.286042\n",
       "2                  SVC     0.467802    0.424809  5.887000\n",
       "3        Decision Tree     0.513716    0.486831  0.095811"
      ]
     },
     "execution_count": 176,
     "metadata": {},
     "output_type": "execute_result"
    }
   ],
   "source": [
    "all_grid_results_df"
   ]
  },
  {
   "cell_type": "code",
   "execution_count": 177,
   "metadata": {},
   "outputs": [
    {
     "data": {
      "image/png": "[encoded data removed]",
      "text/plain": [
       "<Figure size 640x480 with 1 Axes>"
      ]
     },
     "metadata": {},
     "output_type": "display_data"
    }
   ],
   "source": [
    "# Plot the accuracy scores for more clarity\n",
    "tidy = all_grid_results_df.melt( id_vars=\"model\", value_vars=[\"Train Score\", \"Test Score\"]).rename(columns=str.title)\n",
    "plt.figure( figsize=(8, 6), dpi=80 )\n",
    "sns.barplot( tidy, x = \"Model\", y = \"Value\", hue = \"Variable\" )\n",
    "\n",
    "plt.title( \"Recall Scores of 4 Optimized Classification Models Utilizng Entire Dataset\" )\n",
    "plt.xlabel( \"Classification Model\" )\n",
    "plt.ylabel( \"Recall\" )\n",
    "plt.savefig( \"images/alldataModels.png\", bbox_inches='tight' )"
   ]
  },
  {
   "cell_type": "markdown",
   "metadata": {},
   "source": [
    "Surprisingly, the models are performed twice as well when we utilize the entire dataset. It still seems like the decision tree model is the best model so far, so lets analyze it to see any features that stood out:"
   ]
  },
  {
   "cell_type": "code",
   "execution_count": 178,
   "metadata": {},
   "outputs": [],
   "source": [
    "best_all_tree_estimator = all_tree_gridresults[-1].best_estimator_.named_steps[\"classifier\"]"
   ]
  },
  {
   "cell_type": "code",
   "execution_count": 179,
   "metadata": {},
   "outputs": [
    {
     "data": {
      "image/png": "[encoded data removed]",
      "text/plain": [
       "<Figure size 640x480 with 1 Axes>"
      ]
     },
     "metadata": {},
     "output_type": "display_data"
    }
   ],
   "source": [
    "all_tree = plot_tree( best_all_tree_estimator )"
   ]
  },
  {
   "cell_type": "markdown",
   "metadata": {},
   "source": [
    "Although similar to the previous tree, this one seems a lot less deep, which means it's less overfitted."
   ]
  },
  {
   "cell_type": "code",
   "execution_count": 180,
   "metadata": {},
   "outputs": [
    {
     "data": {
      "image/png": "[encoded data removed]",
      "text/plain": [
       "<Figure size 640x480 with 1 Axes>"
      ]
     },
     "metadata": {},
     "output_type": "display_data"
    }
   ],
   "source": [
    "all_tree = plot_tree( best_all_tree_estimator, max_depth = 2, filled = True, feature_names = list( all_tree_gridresults[-1].best_estimator_.named_steps[\"transform\"].get_feature_names_out() ) )"
   ]
  },
  {
   "cell_type": "markdown",
   "metadata": {},
   "source": [
    "Looking at the variables used for each split, we can see that the \"duration\" feature is very prevalent in the first few splits. This makes sense, since a longer duration would imply a higher likely chance of having a client subscribe. However, as mentioned in the data analysis, \"duration\" should not be an input for a predictive model since it can't be predicted before communicating with the client. However, it is a definite conclusion that \"duration\" has a significant impact on the model. Perhaps having better sales pitchers for the promotion would help increase the duration of calls?"
   ]
  },
  {
   "cell_type": "markdown",
   "metadata": {},
   "source": [
    "### Utilizing all of the dataset (except for duration)"
   ]
  },
  {
   "cell_type": "markdown",
   "metadata": {},
   "source": [
    "Although the models above can't be used, it raises a questeion on if \"duration\" was removed from the dataset, would the models still perform as well?"
   ]
  },
  {
   "cell_type": "code",
   "execution_count": 181,
   "metadata": {},
   "outputs": [],
   "source": [
    "# We need to split the data again\n",
    "X, y = bankDF.drop( [\"y\", \"duration\"], axis = 1 ), bankDF[\"y\"]\n",
    "X_train, X_test, y_train, y_test = train_test_split( X, y )"
   ]
  },
  {
   "cell_type": "code",
   "execution_count": 182,
   "metadata": {},
   "outputs": [
    {
     "name": "stdout",
     "output_type": "stream",
     "text": [
      "0.2286788089043076 0.2277730736663844 0.2822855005264282\n"
     ]
    }
   ],
   "source": [
    "no_duration_logreg_gridresults = searchTrainAndScore( LogisticRegression(), logreg_param_grid )"
   ]
  },
  {
   "cell_type": "code",
   "execution_count": 183,
   "metadata": {},
   "outputs": [
    {
     "name": "stdout",
     "output_type": "stream",
     "text": [
      "0.9780283318878289 0.331922099915326 0.07686724662780763\n"
     ]
    }
   ],
   "source": [
    "no_duration_knn_gridresults = searchTrainAndScore( KNeighborsClassifier(), KNN_param_grid )"
   ]
  },
  {
   "cell_type": "code",
   "execution_count": 184,
   "metadata": {},
   "outputs": [
    {
     "name": "stdout",
     "output_type": "stream",
     "text": [
      "0.23561723041341429 0.23793395427603725 15.910372638702393\n"
     ]
    }
   ],
   "source": [
    "no_duration_svc_gridresults = searchTrainAndScore( SVC(), svc_param_grid )"
   ]
  },
  {
   "cell_type": "code",
   "execution_count": 185,
   "metadata": {},
   "outputs": [
    {
     "name": "stdout",
     "output_type": "stream",
     "text": [
      "0.9609713790112749 0.3454699407281964 0.09556363773345948\n"
     ]
    }
   ],
   "source": [
    "no_duration_tree_gridresults = searchTrainAndScore( DecisionTreeClassifier(), tree_param_grid )"
   ]
  },
  {
   "cell_type": "code",
   "execution_count": 186,
   "metadata": {},
   "outputs": [],
   "source": [
    "# Create the Dataframe to contain our results\n",
    "no_duration_grid_results_df = pd.DataFrame( {\"model\":[\"KNN\",\"Logistic Regression\", \"SVC\", \"Decision Tree\"], \n",
    "                                 \"Train Score\":[no_duration_knn_gridresults[0], no_duration_logreg_gridresults[0], no_duration_svc_gridresults[0], no_duration_tree_gridresults[0]],\n",
    "                                 \"Test Score\":[no_duration_knn_gridresults[1], no_duration_logreg_gridresults[1], no_duration_svc_gridresults[1], no_duration_tree_gridresults[1]], \n",
    "                                 \"Fit Time\":[no_duration_knn_gridresults[2], no_duration_logreg_gridresults[2], no_duration_svc_gridresults[2], no_duration_tree_gridresults[2]]})"
   ]
  },
  {
   "cell_type": "code",
   "execution_count": 187,
   "metadata": {},
   "outputs": [
    {
     "data": {
      "text/html": [
       "<div>\n",
       "<style scoped>\n",
       "    .dataframe tbody tr th:only-of-type {\n",
       "        vertical-align: middle;\n",
       "    }\n",
       "\n",
       "    .dataframe tbody tr th {\n",
       "        vertical-align: top;\n",
       "    }\n",
       "\n",
       "    .dataframe thead th {\n",
       "        text-align: right;\n",
       "    }\n",
       "</style>\n",
       "<table border=\"1\" class=\"dataframe\">\n",
       "  <thead>\n",
       "    <tr style=\"text-align: right;\">\n",
       "      <th></th>\n",
       "      <th>model</th>\n",
       "      <th>Train Score</th>\n",
       "      <th>Test Score</th>\n",
       "      <th>Fit Time</th>\n",
       "    </tr>\n",
       "  </thead>\n",
       "  <tbody>\n",
       "    <tr>\n",
       "      <th>0</th>\n",
       "      <td>KNN</td>\n",
       "      <td>0.978028</td>\n",
       "      <td>0.331922</td>\n",
       "      <td>0.076867</td>\n",
       "    </tr>\n",
       "    <tr>\n",
       "      <th>1</th>\n",
       "      <td>Logistic Regression</td>\n",
       "      <td>0.228679</td>\n",
       "      <td>0.227773</td>\n",
       "      <td>0.282286</td>\n",
       "    </tr>\n",
       "    <tr>\n",
       "      <th>2</th>\n",
       "      <td>SVC</td>\n",
       "      <td>0.235617</td>\n",
       "      <td>0.237934</td>\n",
       "      <td>15.910373</td>\n",
       "    </tr>\n",
       "    <tr>\n",
       "      <th>3</th>\n",
       "      <td>Decision Tree</td>\n",
       "      <td>0.960971</td>\n",
       "      <td>0.345470</td>\n",
       "      <td>0.095564</td>\n",
       "    </tr>\n",
       "  </tbody>\n",
       "</table>\n",
       "</div>"
      ],
      "text/plain": [
       "                 model  Train Score  Test Score   Fit Time\n",
       "0                  KNN     0.978028    0.331922   0.076867\n",
       "1  Logistic Regression     0.228679    0.227773   0.282286\n",
       "2                  SVC     0.235617    0.237934  15.910373\n",
       "3        Decision Tree     0.960971    0.345470   0.095564"
      ]
     },
     "execution_count": 187,
     "metadata": {},
     "output_type": "execute_result"
    }
   ],
   "source": [
    "no_duration_grid_results_df"
   ]
  },
  {
   "cell_type": "markdown",
   "metadata": {},
   "source": [
    "Unfortunately, as we can see, once we remove the \"duration\" feature from the dataset, the performance of the models drops significantly and is similar to our previously optimized models. Thus, we can say that besides the \"duration\" feature, the other features don't have a strong determinating factor in separating the two classes."
   ]
  },
  {
   "cell_type": "markdown",
   "metadata": {},
   "source": [
    "### Analyzing the KNN"
   ]
  },
  {
   "cell_type": "markdown",
   "metadata": {},
   "source": [
    "Since the Decision Tree model is severely overfitted, we should check to see if the KNN is also overfitted to help assert the fact that these two models perform well just by overfitting."
   ]
  },
  {
   "cell_type": "code",
   "execution_count": 188,
   "metadata": {},
   "outputs": [
    {
     "data": {
      "text/plain": [
       "{'classifier__n_neighbors': 1, 'classifier__weights': 'uniform'}"
      ]
     },
     "execution_count": 188,
     "metadata": {},
     "output_type": "execute_result"
    }
   ],
   "source": [
    "knn_gridresults[-1].best_params_"
   ]
  },
  {
   "cell_type": "markdown",
   "metadata": {},
   "source": [
    "Yep, as we can see, the best hyperparameter for n_neighbors was 1, which meant the KNN model was mapping to the closest point in the training data. Interestingly, the recall/acccuracy of the model is not 1, which implies that there are some identical data points that have different classes. From this, we can confirm that both the Decision Tree and KNN models are overfitting."
   ]
  },
  {
   "cell_type": "markdown",
   "metadata": {},
   "source": [
    "### Analyzing the SVC"
   ]
  },
  {
   "cell_type": "markdown",
   "metadata": {},
   "source": [
    "Although the Decision Tree and KNN models perform the best, they are overfitted to the training data and don't provide much insight to take from. Thus, it might be better to analyze the SVC to see which features were impactful in determining the class."
   ]
  },
  {
   "cell_type": "code",
   "execution_count": 189,
   "metadata": {},
   "outputs": [
    {
     "data": {
      "text/plain": [
       "{'classifier__kernel': 'sigmoid'}"
      ]
     },
     "execution_count": 189,
     "metadata": {},
     "output_type": "execute_result"
    }
   ],
   "source": [
    "# Get the best parameters\n",
    "svc_gridresults[-1].best_params_"
   ]
  },
  {
   "cell_type": "code",
   "execution_count": 195,
   "metadata": {},
   "outputs": [],
   "source": [
    "# Get the permutations\n",
    "from sklearn.inspection import permutation_importance\n",
    "\n",
    "perm_importance = permutation_importance( svc_gridresults[-1].best_estimator_, og_X_test, og_y_test, scoring = custom_scorer )"
   ]
  },
  {
   "cell_type": "code",
   "execution_count": 197,
   "metadata": {},
   "outputs": [
    {
     "data": {
      "image/png": "[encoded data removed]",
      "text/plain": [
       "<Figure size 640x480 with 1 Axes>"
      ]
     },
     "metadata": {},
     "output_type": "display_data"
    }
   ],
   "source": [
    "# Print out the permutation Importances\n",
    "features = np.array( og_X_test.columns )\n",
    "sorted_idx = perm_importance.importances_mean.argsort()\n",
    "\n",
    "sns.barplot( y = features[sorted_idx], x = perm_importance.importances_mean[sorted_idx], orient = \"h\" )\n",
    "plt.xlabel(\"Permutation Importance\")\n",
    "plt.ylabel( \"Feature\" )\n",
    "plt.title( \"Permutation Importances of Features\" )\n",
    "plt.savefig( \"images/permutation.png\", bbox_inches='tight' )"
   ]
  },
  {
   "cell_type": "markdown",
   "metadata": {},
   "source": [
    "From the permutation importances, we can see that all of the features have less than 0.05 in permutation importance, meaning they all have very little impact on the model. In fact, many of the importances are negative, meaning that random chance caused the predictions to be more accurate. All of this supports the fact that there isn't any strong feature indicator to determine if a client will subscribe or not."
   ]
  },
  {
   "cell_type": "markdown",
   "metadata": {},
   "source": [
    "# Results"
   ]
  },
  {
   "cell_type": "markdown",
   "metadata": {},
   "source": [
    "From our models, we can confirm that a decision tree is the best model to classify if a client will or will not subscribe to a term deposit. However, the model is extremely overfitted, resulting in high recall for the training data and low recall for the testing data. This is probably due to a lack of strong features that correlate to one class or the other. Thus, the best tree model is overfitted and somewhat matches with the test data. This is supported by the fact that the K-Nearest Neighbors model is the second best model, trailing behind the decision tree by a small amount. Both simply fit the training data and used it. Models such as Logistic Regression and SVC, which try to discover the decision boundary between the two classes, did poorly since there was no strong boundary.\n",
    "\n",
    "Although our models are not very acccurate in terms of recall, we still obtained some good insight on the data. One thing is that the \"duration\" feature strongly impacts the models and is a good determining factor on whether a client will or will not subscribe. It clearly increases the performance of every model by a significant amount when included. However, \"duration\" is not something you can predict since it can only be recorded during communication with the client. But, it makes sense that if communication with the client is longer, there is a higher chance for them to subscribe. Thus, it might be worth investing more in promotion sales people to effectively raise the chances of having longer conversations with clients.\n",
    "\n",
    "Another thing to note is that for each decision tree, the \"nr.employed\" feature is always the first feature used to split the data. This probably implies that out of the features, the number of employed employees in the company is a strong factor in the model for dividing the data into the two classes. This could be because the more employees there are, the more likely chance of the promotion team to have more personnel, which would lead to a higher frequency of communication with clients. As a result, there are more chances for there to be clients willing subscribe. Thus, if the bank wishes to improve their promotional campaign, perhaps they can invest more manpower into the campaign.\n",
    "\n",
    "Ultimately, it seems like the currently provided features can not accurately predict whether a client will or will not subscribe to a term deposit. With our best model having a recall of 0.34, it might be difficult to glean any use from it. However, we can use this information to pivot our investigation to exploring new features that could lead to better predictions."
   ]
  },
  {
   "cell_type": "markdown",
   "metadata": {},
   "source": [
    "# Summary"
   ]
  },
  {
   "cell_type": "markdown",
   "metadata": {},
   "source": [
    "With a dataset of marketing campaigns from a Portugeuse banking institution, we tried training different classification models to predict whether a client would subscribe to a term deposit. From our investigation, we discovered that none of the features in the dataset had a strong correlation with identifying clients. The only exception was the duration of the call with clients, which cannot be part of the prediction because it can only be recorded during the call, not before. Thus, perhaps the bank should invest more in other aspects of the promotional campaign rather than identifying clients such as manpower and promotional quality."
   ]
  },
  {
   "cell_type": "markdown",
   "metadata": {},
   "source": [
    "# Next Steps/Recommendations"
   ]
  },
  {
   "cell_type": "markdown",
   "metadata": {},
   "source": [
    "From our results, we have seen that it's difficult to identify potential clients willing to subscribe to a term deposit. There are no strong determining factor and our best models don't perform very well. Thus, instead of identifying clients, the bank should instead focus on their marketing campaign to attract more clients. This way, they will have a higher chance of discovering clients that will subscribe. Perhaps they could invest in better sales persons or give more manpower to the team.\n",
    "\n",
    "As for the next steps for this project, we will need to recontexualize the problem and collect new data that could help classify clients more accurately.\n",
    "\n",
    "For example, from our investigation, we discovered that call duration was the only feature that had a significant impact on our classification models. Thus, we could find features that relate to the calls themselves such as call time or quality of call, and add them into the next dataset. This way, we're focusing on how to promote to clients rather than finding which clients to promote to.\n",
    "\n",
    "If we wish to stay with identifying potential clients, then we would probably need to find more features to record and utilize. Perhaps having more client information such as income, debt, and housing might help contribute to the model."
   ]
  },
  {
   "cell_type": "markdown",
   "metadata": {},
   "source": [
    "# Reflection"
   ]
  },
  {
   "cell_type": "markdown",
   "metadata": {},
   "source": [
    "Although I believe I did a thorough investigation in this project, I believe I could have organized it better. For example, perhaps I could have utilized the full dataset for training to get a better understanding before engineering the features. In addition, I believe I could improve on the hyperparameter grid searches by adding more parameters. However, I feel like I've already done such an exhaustive search that perhaps there might not be much impact. Lastly, I think I should have separated the different groups of models better by creating individual training methods and data splits for each group."
   ]
  }
 ],
 "metadata": {
  "kernelspec": {
   "display_name": "Python 3 (ipykernel)",
   "language": "python",
   "name": "python3"
  },
  "language_info": {
   "codemirror_mode": {
    "name": "ipython",
    "version": 3
   },
   "file_extension": ".py",
   "mimetype": "text/x-python",
   "name": "python",
   "nbconvert_exporter": "python",
   "pygments_lexer": "ipython3",
   "version": "3.11.5"
  },
  "widgets": {
   "application/vnd.jupyter.widget-state+json": {
    "state": {},
    "version_major": 2,
    "version_minor": 0
   }
  }
 },
 "nbformat": 4,
 "nbformat_minor": 4
}
